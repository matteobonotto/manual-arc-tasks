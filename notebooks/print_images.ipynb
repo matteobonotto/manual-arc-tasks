{
 "cells": [
  {
   "cell_type": "code",
   "execution_count": 1,
   "metadata": {},
   "outputs": [],
   "source": [
    "import sys\n",
    "sys.path.append(\"../\")\n",
    "\n",
    "from pathlib import Path\n",
    "import json\n",
    "from tqdm import tqdm\n",
    "from src.visualization import MatplotlibARCPlot"
   ]
  },
  {
   "cell_type": "code",
   "execution_count": 2,
   "metadata": {},
   "outputs": [
    {
     "name": "stderr",
     "output_type": "stream",
     "text": [
      "100%|██████████| 401/401 [01:01<00:00,  6.53it/s]\n",
      "100%|██████████| 201/201 [00:37<00:00,  5.39it/s]\n",
      "100%|██████████| 200/200 [00:40<00:00,  4.91it/s]\n"
     ]
    }
   ],
   "source": [
    "plotter = MatplotlibARCPlot()\n",
    "\n",
    "for dir in Path(\"../data\").iterdir():\n",
    "    if '.DS_' not in str(dir):\n",
    "        for file in tqdm(dir.iterdir(), total=len(list(dir.iterdir()))):\n",
    "            if 'json' in file.suffix:\n",
    "                task = json.load(open(file, 'r'))\n",
    "                plotter.show(\n",
    "                    task=task,\n",
    "                    title=file.stem,\n",
    "                    taskname=file.stem,\n",
    "                    savefig=True,\n",
    "                    dirsave=dir,\n",
    "                )\n"
   ]
  }
 ],
 "metadata": {
  "kernelspec": {
   "display_name": ".venv",
   "language": "python",
   "name": "python3"
  },
  "language_info": {
   "codemirror_mode": {
    "name": "ipython",
    "version": 3
   },
   "file_extension": ".py",
   "mimetype": "text/x-python",
   "name": "python",
   "nbconvert_exporter": "python",
   "pygments_lexer": "ipython3",
   "version": "3.10.16"
  }
 },
 "nbformat": 4,
 "nbformat_minor": 2
}
