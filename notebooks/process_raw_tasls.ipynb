{
 "cells": [
  {
   "cell_type": "code",
   "execution_count": 1,
   "metadata": {},
   "outputs": [],
   "source": [
    "import sys\n",
    "sys.path.append('../')\n",
    "\n",
    "import json\n",
    "from pathlib import Path\n",
    "\n",
    "import random\n",
    "from string import ascii_lowercase\n",
    "\n",
    "from src.visualization import ArcPlotter"
   ]
  },
  {
   "cell_type": "code",
   "execution_count": 2,
   "metadata": {},
   "outputs": [
    {
     "name": "stdout",
     "output_type": "stream",
     "text": [
      "7ufzhzcwyc\n"
     ]
    }
   ],
   "source": [
    "digits = [str(x) for x in range(10)]\n",
    "letters = list(ascii_lowercase)\n",
    "sequence = letters+digits\n",
    "def arc_name(n:int=10) -> str:\n",
    "    return ''.join([random.choice(sequence) for _ in range(n)])\n",
    "\n",
    "print(arc_name(10))"
   ]
  },
  {
   "cell_type": "code",
   "execution_count": 3,
   "metadata": {},
   "outputs": [],
   "source": [
    "root_dir = \"../\"\n",
    "\n",
    "## first load all the tasks\n",
    "raw_tasks = {}\n",
    "for i,file in enumerate(Path(f'{root_dir}gen_tasks/raw').iterdir()):\n",
    "    raw_tasks.update({i:json.load(open(file, \"r\"))})"
   ]
  },
  {
   "cell_type": "code",
   "execution_count": 4,
   "metadata": {},
   "outputs": [
    {
     "name": "stdout",
     "output_type": "stream",
     "text": [
      "Available tasks: 24\n",
      "Unique tasks: 23\n"
     ]
    }
   ],
   "source": [
    "## check and discard duplicated tasks\n",
    "Path(f'{root_dir}preprocessed/').mkdir(exist_ok=True, parents=True)\n",
    "\n",
    "unique_tasks = set([str(x) for x in raw_tasks.values()])\n",
    "\n",
    "print(f\"Available tasks: {len(raw_tasks)}\")\n",
    "print(f'Unique tasks: {len(unique_tasks)}')\n",
    "\n",
    "preprocessed_tasks = {arc_name(20):json.loads(x.replace(\"'\", '\"')) for x in unique_tasks}"
   ]
  },
  {
   "cell_type": "code",
   "execution_count": 6,
   "metadata": {},
   "outputs": [],
   "source": [
    "# for k,task in preprocessed_tasks.items():\n",
    "#     ArcPlotter().plot_task(task, task_name=k)"
   ]
  },
  {
   "cell_type": "code",
   "execution_count": null,
   "metadata": {},
   "outputs": [],
   "source": []
  }
 ],
 "metadata": {
  "kernelspec": {
   "display_name": ".venv",
   "language": "python",
   "name": "python3"
  },
  "language_info": {
   "codemirror_mode": {
    "name": "ipython",
    "version": 3
   },
   "file_extension": ".py",
   "mimetype": "text/x-python",
   "name": "python",
   "nbconvert_exporter": "python",
   "pygments_lexer": "ipython3",
   "version": "3.10.16"
  }
 },
 "nbformat": 4,
 "nbformat_minor": 2
}
